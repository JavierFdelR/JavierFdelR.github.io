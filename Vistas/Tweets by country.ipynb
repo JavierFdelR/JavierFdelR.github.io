{
 "cells": [
  {
   "cell_type": "markdown",
   "metadata": {
    "extensions": {
     "jupyter_dashboards": {
      "version": 1,
      "views": {
       "grid_default": {
        "col": 0,
        "height": 2,
        "hidden": false,
        "row": 0,
        "width": 12
       },
       "report_default": {}
      }
     }
    }
   },
   "source": [
    "# Tweets by country"
   ]
  },
  {
   "cell_type": "code",
   "execution_count": 3,
   "metadata": {
    "collapsed": false,
    "extensions": {
     "jupyter_dashboards": {
      "version": 1,
      "views": {
       "grid_default": {
        "col": 6,
        "height": 24,
        "hidden": false,
        "row": 4,
        "width": 6
       },
       "report_default": {
        "hidden": false
       }
      }
     }
    }
   },
   "outputs": [
    {
     "name": "stdout",
     "output_type": "stream",
     "text": [
      "#brexit - Look out London... Budapest, Prague and Wroclaw all want your workers after Brexit https://t.co/VUSho1bpbr\n",
      "----------------\n",
      "#brexit May to trigger Brexit process on Wednesday 29 March https://t.co/9lRIslcYoN\n",
      "----------------\n",
      "#brexit Vladimir Putin's love for immigrants  (and 4 other things) https://t.co/MePEEaqrbe https://t.co/TAfdeSRdB1\n",
      "----------------\n",
      "#brexit Gordon Brown pushes 'patriotic' third option for Scotland after Brexit https://t.co/39MWw6o6ks\n",
      "----------------\n",
      "#brexit \n",
      "Brexit bill is given Royal Assent by the Queen, allowing Theresa May to trigger EU talks https://t.co/yeByangsyI\n",
      "----------------\n",
      "#brexit \n",
      "EU may force Britain to wait until June to start Brexit negotiations (https://t.co/yD4UraLVbN)\n",
      "----------------\n",
      "#brexit\n",
      "All you need to know about it (https://t.co/y67o2Q1Zuw)\n",
      "----------------\n",
      "#brexit\n",
      "May said: Scotland will leave the EU either as a member of the UK or as independent. https://t.co/hHVew19KJC\n",
      "----------------\n"
     ]
    }
   ],
   "source": [
    "import tweepy\n",
    "import string\n",
    "\n",
    "auth = tweepy.OAuthHandler('iZpyiryHMOCcXi5lcDO36JnDh', 'ZYsikz1ZprBuytR5T5zbfIQKLL3J0J8RrW7nUEDjjviaGKKflc')\n",
    "auth.set_access_token('86129375-JQl10y6hVVUAGDiOdBjomYx5e794kFRlXRKndIfnp', '2xSKnGQoOuNgnF27CRft9IzxqlcMqPEiXxNhVxhLVlvj4')\n",
    "api = tweepy.API(auth)\n",
    "\n",
    "lookup_hash = 'brexit'\n",
    "\n",
    "for i in [1,2,3]:\n",
    "    my_tweets = api.user_timeline('JavierFdelR', page = i) # returns list of Status objects\n",
    "\n",
    "    for tweet in my_tweets:\n",
    "        msg_text = tweet.text\n",
    "        msg_hashtags = tweet.entities.get('hashtags')\n",
    "        try:\n",
    "            msg_first_hashtag = msg_hashtags[0].get('text')\n",
    "        except IndexError:\n",
    "            msg_first_hashtag = 'null'\n",
    "        if(msg_first_hashtag == lookup_hash):\n",
    "            print(msg_text)\n",
    "            print('----------------')"
   ]
  },
  {
   "cell_type": "code",
   "execution_count": null,
   "metadata": {
    "collapsed": true,
    "extensions": {
     "jupyter_dashboards": {
      "version": 1,
      "views": {
       "grid_default": {
        "hidden": true
       },
       "report_default": {
        "hidden": true
       }
      }
     }
    }
   },
   "outputs": [],
   "source": []
  }
 ],
 "metadata": {
  "extensions": {
   "jupyter_dashboards": {
    "activeView": "grid_default",
    "version": 1,
    "views": {
     "grid_default": {
      "cellMargin": 10,
      "defaultCellHeight": 20,
      "maxColumns": 12,
      "name": "grid",
      "type": "grid"
     },
     "report_default": {
      "name": "report",
      "type": "report"
     }
    }
   }
  },
  "kernelspec": {
   "display_name": "Python [conda root]",
   "language": "python",
   "name": "conda-root-py"
  },
  "language_info": {
   "codemirror_mode": {
    "name": "ipython",
    "version": 3
   },
   "file_extension": ".py",
   "mimetype": "text/x-python",
   "name": "python",
   "nbconvert_exporter": "python",
   "pygments_lexer": "ipython3",
   "version": "3.5.2"
  }
 },
 "nbformat": 4,
 "nbformat_minor": 2
}
