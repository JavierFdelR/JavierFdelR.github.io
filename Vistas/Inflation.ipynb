{
 "cells": [
  {
   "cell_type": "code",
   "execution_count": null,
   "metadata": {
    "collapsed": true
   },
   "outputs": [],
   "source": [
    "# wb.search('gdp.*capita.*const').iloc[:,:2]\n",
    "# wb.search('cpi').iloc[:,:2]\n",
    "# pandas_datareader.wb.country_codes pa ver paises\n",
    "# ind = ['MEI_PRICES']\n",
    "import pandas_datareader.data as web\n",
    "import datetime\n",
    "dat = web.DataReader('MEI_PRICES', 'oecd', end=datetime.datetime(2012, 1, 1))\n",
    "# dame el indice\n",
    "indice_1 = dat.index\n",
    "indice_2 = dat.T.index #same as dat.columns\n",
    "a = dat.T.ix[('Consumer prices - all items','Chile','Index','Quarterly')]"
   ]
  }
 ],
 "metadata": {
  "kernelspec": {
   "display_name": "Python [conda root]",
   "language": "python",
   "name": "conda-root-py"
  },
  "language_info": {
   "codemirror_mode": {
    "name": "ipython",
    "version": 3
   },
   "file_extension": ".py",
   "mimetype": "text/x-python",
   "name": "python",
   "nbconvert_exporter": "python",
   "pygments_lexer": "ipython3",
   "version": "3.5.2"
  }
 },
 "nbformat": 4,
 "nbformat_minor": 2
}
